{
 "cells": [
  {
   "cell_type": "markdown",
   "metadata": {},
   "source": [
    "The goal here is to learn how integrate ipython with real life experients"
   ]
  },
  {
   "cell_type": "code",
   "execution_count": 6,
   "metadata": {
    "collapsed": false
   },
   "outputs": [
    {
     "ename": "SyntaxError",
     "evalue": "EOL while scanning string literal (<ipython-input-6-7b4cbd5e4b66>, line 6)",
     "output_type": "error",
     "traceback": [
      "\u001b[0;36m  File \u001b[0;32m\"<ipython-input-6-7b4cbd5e4b66>\"\u001b[0;36m, line \u001b[0;32m6\u001b[0m\n\u001b[0;31m    parser.add_argument('macs2_files',help='This is a comma-delimited list of files that are output from MACS2.\")\u001b[0m\n\u001b[0m                                                                                                                ^\u001b[0m\n\u001b[0;31mSyntaxError\u001b[0m\u001b[0;31m:\u001b[0m EOL while scanning string literal\n"
     ]
    }
   ],
   "source": [
    "import sys,os,re\n",
    "from argparse import ArgumentParser\n",
    "\n",
    "def main():\n",
    "\t\n",
    "    parser.add_argument('macs2_files',help='This is a comma-delimited list of files that are output from MACS2.\")\n",
    "\twith open('testComputeMean', 'r') as f:\n",
    "    \t#read lines, strip trailing newlines, and convert to float if not empty\n",
    "\t    numbers = [float(x) for x in (x.strip() for x in f) if x]\n",
    "\t\n",
    "\tavg = sum(numbers) / len(numbers)\n",
    "\tsdv = (sum((n - avg) ** 2 for n in numbers) / len(numbers)) ** .5\n",
    "\tprint('The arithmetic mean is {}'.format(avg))\n",
    "\tprint('The standard deviation is {}'.format(sdv))\n",
    "\tprint('The minimum is {}.'.format(min(numbers)))\n",
    "\t    \n",
    "\t    \n",
    "\t    \n",
    "if __name__=='__main__':\n",
    "    main()"
   ]
  },
  {
   "cell_type": "code",
   "execution_count": null,
   "metadata": {
    "collapsed": true
   },
   "outputs": [],
   "source": []
  }
 ],
 "metadata": {
  "kernelspec": {
   "display_name": "Python 2",
   "language": "python",
   "name": "python2"
  },
  "language_info": {
   "codemirror_mode": {
    "name": "ipython",
    "version": 2
   },
   "file_extension": ".py",
   "mimetype": "text/x-python",
   "name": "python",
   "nbconvert_exporter": "python",
   "pygments_lexer": "ipython2",
   "version": "2.7.10"
  }
 },
 "nbformat": 4,
 "nbformat_minor": 0
}
